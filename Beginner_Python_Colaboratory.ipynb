{
  "nbformat": 4,
  "nbformat_minor": 0,
  "metadata": {
    "colab": {
      "name": "Copy of Welcome To Colaboratory",
      "provenance": [],
      "collapsed_sections": [],
      "include_colab_link": true
    },
    "kernelspec": {
      "display_name": "Python 3",
      "name": "python3"
    }
  },
  "cells": [
    {
      "cell_type": "markdown",
      "metadata": {
        "id": "view-in-github",
        "colab_type": "text"
      },
      "source": [
        "<a href=\"https://colab.research.google.com/github/toutbien/toutbien/blob/main/Beginner_Python_Colaboratory.ipynb\" target=\"_parent\"><img src=\"https://colab.research.google.com/assets/colab-badge.svg\" alt=\"Open In Colab\"/></a>"
      ]
    },
    {
      "cell_type": "markdown",
      "metadata": {
        "id": "2fhs6GZ4qFMx"
      },
      "source": [
        "To execute the code in the above cell, select it with a click and then either press the play button to the left of the code, or use the keyboard shortcut \"Command/Ctrl+Enter\". To edit the code, just click the cell and start editing.\n",
        "\n",
        "Variables that you define in one cell can later be used in other cells:"
      ]
    },
    {
      "cell_type": "code",
      "metadata": {
        "colab": {
          "base_uri": "https://localhost:8080/"
        },
        "id": "-gE-Ez1qtyIA",
        "outputId": "c724be78-8fff-465c-a5d7-78c4151c612e"
      },
      "source": [
        "madlibs = \"the word game\"\n",
        "print(\"welcome to \" + madlibs)\n",
        "print(\"beginner project 1\")\n",
        "adj = input(\"Adjective: \")\n",
        "noun1 = input(\"Noun: \")\n",
        "plural_noun = input(\"Plural noun: \")\n",
        "weird_noun = input(\"Weird noun: \")\n",
        "famous_person = input(\"Famous person: \")\n",
        "intangible_noun = input(\"Intangible noun: \")\n",
        "adj2 = input(\"Adjective: \")\n",
        "proper_noun = input(\"Proper noun: \")\n",
        "\n",
        "\n",
        "madlib = f\"The quick {adj} fox jumped over the lazy {noun1}. When the two {plural_noun} \\\n",
        "collide, you find {weird_noun}.  Stay classy and keep {famous_person} in your {intangible_noun}. \\\n",
        "We all find {adj2} peace in {proper_noun}.\"\n",
        "\n",
        "print (madlib)"
      ],
      "execution_count": null,
      "outputs": [
        {
          "output_type": "stream",
          "name": "stdout",
          "text": [
            "welcome to the word game\n",
            "beginner project 1\n",
            "Adjective: sloppy\n",
            "Noun: frog\n",
            "Plural noun: twins\n",
            "Weird noun: crepes\n",
            "Famous person: Cher\n",
            "Intangible noun: mystic pizza\n",
            "Adjective: flashy\n",
            "Proper noun: Supreme Ruler\n",
            "The quick sloppy fox jumped over the lazy frog. When the two twinscollide, you find crepes.  Stay classy and keep Cher in your mystic pizza. We all find flashy in Supreme Ruler.\n"
          ]
        }
      ]
    },
    {
      "cell_type": "code",
      "metadata": {
        "colab": {
          "base_uri": "https://localhost:8080/",
          "height": 281
        },
        "id": "C4HZx7Gndbrh",
        "outputId": "4214f003-19c0-427e-e7af-aae08f7ed60e"
      },
      "source": [
        "import numpy as np\n",
        "from matplotlib import pyplot as plt\n",
        "\n",
        "ys = 70 + np.random.randn(20)\n",
        "x = [x for x in range(len(ys))]\n",
        "\n",
        "plt.plot(x, ys, '-')\n",
        "plt.fill_between(x, ys, 25, where=(ys > 25), facecolor='b', alpha=0.6)\n",
        "\n",
        "plt.title(\"Made Using Colaboratory\")\n",
        "plt.show()"
      ],
      "execution_count": 3,
      "outputs": [
        {
          "output_type": "display_data",
          "data": {
            "image/png": "[encoded data removed]",
            "text/plain": [
              "<Figure size 432x288 with 1 Axes>"
            ]
          },
          "metadata": {
            "needs_background": "light"
          }
        }
      ]
    },
    {
      "cell_type": "code",
      "metadata": {
        "id": "_AUNb-QqUUwc"
      },
      "source": [
        ""
      ],
      "execution_count": null,
      "outputs": []
    }
  ]
}